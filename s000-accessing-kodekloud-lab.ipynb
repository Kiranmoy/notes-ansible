{
 "cells": [
  {
   "cell_type": "markdown",
   "id": "7e7e6228-2a6a-4ae0-9a9f-89a3885f635f",
   "metadata": {},
   "source": [
    "All hands-on labs are hosted on KodeKloud. \n",
    "\n",
    "Use this **[link](https://ualabs.kodekloud.com/courses/labs-ansible-for-the-absolute-beginners/)** to register for the labs associated with this course.  \n",
    "\n",
    "Please make sure to use the same name as your Udemy profile. That's how we know you are our Udemy student.\n",
    "\n",
    "It's FREE. You don't have to make any additional payment.\n",
    "\n",
    "It's not required to complete this course on Udemy\n",
    "\n",
    "To participate, you'll be registering to a new platform - KodeKloud, separate from Udemy\n",
    "\n",
    "You'll be added to a mailing list after registration. You may choose to opt out of it.\n",
    "\n",
    "\n",
    "\n",
    "**Link**: https://ualabs.kodekloud.com/courses/labs-ansible-for-the-absolute-beginners/\n",
    "\n"
   ]
  },
  {
   "cell_type": "code",
   "execution_count": null,
   "id": "c3dbe7fe-dd74-49fc-98e0-679f195aa5e8",
   "metadata": {},
   "outputs": [],
   "source": []
  }
 ],
 "metadata": {
  "kernelspec": {
   "display_name": "Python 3 (ipykernel)",
   "language": "python",
   "name": "python3"
  },
  "language_info": {
   "codemirror_mode": {
    "name": "ipython",
    "version": 3
   },
   "file_extension": ".py",
   "mimetype": "text/x-python",
   "name": "python",
   "nbconvert_exporter": "python",
   "pygments_lexer": "ipython3",
   "version": "3.13.7"
  }
 },
 "nbformat": 4,
 "nbformat_minor": 5
}
